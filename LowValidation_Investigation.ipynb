{
  "nbformat": 4,
  "nbformat_minor": 0,
  "metadata": {
    "colab": {
      "provenance": [],
      "gpuType": "T4",
      "include_colab_link": true
    },
    "kernelspec": {
      "name": "python3",
      "display_name": "Python 3"
    },
    "language_info": {
      "name": "python"
    },
    "accelerator": "GPU"
  },
  "cells": [
    {
      "cell_type": "markdown",
      "metadata": {
        "id": "view-in-github",
        "colab_type": "text"
      },
      "source": [
        "<a href=\"https://colab.research.google.com/github/kushalj001/Anagrams/blob/master/LowValidation_Investigation.ipynb\" target=\"_parent\"><img src=\"https://colab.research.google.com/assets/colab-badge.svg\" alt=\"Open In Colab\"/></a>"
      ]
    },
    {
      "cell_type": "code",
      "execution_count": 1,
      "metadata": {
        "id": "RATIJVwWfbch"
      },
      "outputs": [],
      "source": [
        "import numpy as np\n",
        "import pandas as pd"
      ]
    },
    {
      "cell_type": "code",
      "source": [
        "!pip install transformer_lens"
      ],
      "metadata": {
        "colab": {
          "base_uri": "https://localhost:8080/"
        },
        "id": "3votQKMMiEls",
        "outputId": "b6eb3c9e-bfd3-4e7f-cd7a-1291da8a41b0"
      },
      "execution_count": 2,
      "outputs": [
        {
          "output_type": "stream",
          "name": "stdout",
          "text": [
            "Requirement already satisfied: transformer_lens in /usr/local/lib/python3.11/dist-packages (2.16.1)\n",
            "Requirement already satisfied: accelerate>=0.23.0 in /usr/local/lib/python3.11/dist-packages (from transformer_lens) (1.9.0)\n",
            "Requirement already satisfied: beartype<0.15.0,>=0.14.1 in /usr/local/lib/python3.11/dist-packages (from transformer_lens) (0.14.1)\n",
            "Requirement already satisfied: better-abc<0.0.4,>=0.0.3 in /usr/local/lib/python3.11/dist-packages (from transformer_lens) (0.0.3)\n",
            "Requirement already satisfied: datasets>=2.7.1 in /usr/local/lib/python3.11/dist-packages (from transformer_lens) (4.0.0)\n",
            "Requirement already satisfied: einops>=0.6.0 in /usr/local/lib/python3.11/dist-packages (from transformer_lens) (0.8.1)\n",
            "Requirement already satisfied: fancy-einsum>=0.0.3 in /usr/local/lib/python3.11/dist-packages (from transformer_lens) (0.0.3)\n",
            "Requirement already satisfied: jaxtyping>=0.2.11 in /usr/local/lib/python3.11/dist-packages (from transformer_lens) (0.3.2)\n",
            "Requirement already satisfied: numpy<2,>=1.24 in /usr/local/lib/python3.11/dist-packages (from transformer_lens) (1.26.4)\n",
            "Requirement already satisfied: pandas>=1.1.5 in /usr/local/lib/python3.11/dist-packages (from transformer_lens) (2.2.2)\n",
            "Requirement already satisfied: rich>=12.6.0 in /usr/local/lib/python3.11/dist-packages (from transformer_lens) (13.9.4)\n",
            "Requirement already satisfied: sentencepiece in /usr/local/lib/python3.11/dist-packages (from transformer_lens) (0.2.0)\n",
            "Requirement already satisfied: torch>=2.6 in /usr/local/lib/python3.11/dist-packages (from transformer_lens) (2.6.0+cu124)\n",
            "Requirement already satisfied: tqdm>=4.64.1 in /usr/local/lib/python3.11/dist-packages (from transformer_lens) (4.67.1)\n",
            "Requirement already satisfied: transformers>=4.51 in /usr/local/lib/python3.11/dist-packages (from transformer_lens) (4.54.1)\n",
            "Requirement already satisfied: transformers-stream-generator<0.0.6,>=0.0.5 in /usr/local/lib/python3.11/dist-packages (from transformer_lens) (0.0.5)\n",
            "Requirement already satisfied: typeguard<5.0,>=4.2 in /usr/local/lib/python3.11/dist-packages (from transformer_lens) (4.4.4)\n",
            "Requirement already satisfied: typing-extensions in /usr/local/lib/python3.11/dist-packages (from transformer_lens) (4.14.1)\n",
            "Requirement already satisfied: wandb>=0.13.5 in /usr/local/lib/python3.11/dist-packages (from transformer_lens) (0.21.0)\n",
            "Requirement already satisfied: packaging>=20.0 in /usr/local/lib/python3.11/dist-packages (from accelerate>=0.23.0->transformer_lens) (25.0)\n",
            "Requirement already satisfied: psutil in /usr/local/lib/python3.11/dist-packages (from accelerate>=0.23.0->transformer_lens) (5.9.5)\n",
            "Requirement already satisfied: pyyaml in /usr/local/lib/python3.11/dist-packages (from accelerate>=0.23.0->transformer_lens) (6.0.2)\n",
            "Requirement already satisfied: huggingface_hub>=0.21.0 in /usr/local/lib/python3.11/dist-packages (from accelerate>=0.23.0->transformer_lens) (0.34.3)\n",
            "Requirement already satisfied: safetensors>=0.4.3 in /usr/local/lib/python3.11/dist-packages (from accelerate>=0.23.0->transformer_lens) (0.5.3)\n",
            "Requirement already satisfied: filelock in /usr/local/lib/python3.11/dist-packages (from datasets>=2.7.1->transformer_lens) (3.18.0)\n",
            "Requirement already satisfied: pyarrow>=15.0.0 in /usr/local/lib/python3.11/dist-packages (from datasets>=2.7.1->transformer_lens) (18.1.0)\n",
            "Requirement already satisfied: dill<0.3.9,>=0.3.0 in /usr/local/lib/python3.11/dist-packages (from datasets>=2.7.1->transformer_lens) (0.3.8)\n",
            "Requirement already satisfied: requests>=2.32.2 in /usr/local/lib/python3.11/dist-packages (from datasets>=2.7.1->transformer_lens) (2.32.3)\n",
            "Requirement already satisfied: xxhash in /usr/local/lib/python3.11/dist-packages (from datasets>=2.7.1->transformer_lens) (3.5.0)\n",
            "Requirement already satisfied: multiprocess<0.70.17 in /usr/local/lib/python3.11/dist-packages (from datasets>=2.7.1->transformer_lens) (0.70.16)\n",
            "Requirement already satisfied: fsspec<=2025.3.0,>=2023.1.0 in /usr/local/lib/python3.11/dist-packages (from fsspec[http]<=2025.3.0,>=2023.1.0->datasets>=2.7.1->transformer_lens) (2025.3.0)\n",
            "Requirement already satisfied: wadler-lindig>=0.1.3 in /usr/local/lib/python3.11/dist-packages (from jaxtyping>=0.2.11->transformer_lens) (0.1.7)\n",
            "Requirement already satisfied: python-dateutil>=2.8.2 in /usr/local/lib/python3.11/dist-packages (from pandas>=1.1.5->transformer_lens) (2.9.0.post0)\n",
            "Requirement already satisfied: pytz>=2020.1 in /usr/local/lib/python3.11/dist-packages (from pandas>=1.1.5->transformer_lens) (2025.2)\n",
            "Requirement already satisfied: tzdata>=2022.7 in /usr/local/lib/python3.11/dist-packages (from pandas>=1.1.5->transformer_lens) (2025.2)\n",
            "Requirement already satisfied: markdown-it-py>=2.2.0 in /usr/local/lib/python3.11/dist-packages (from rich>=12.6.0->transformer_lens) (3.0.0)\n",
            "Requirement already satisfied: pygments<3.0.0,>=2.13.0 in /usr/local/lib/python3.11/dist-packages (from rich>=12.6.0->transformer_lens) (2.19.2)\n",
            "Requirement already satisfied: networkx in /usr/local/lib/python3.11/dist-packages (from torch>=2.6->transformer_lens) (3.5)\n",
            "Requirement already satisfied: jinja2 in /usr/local/lib/python3.11/dist-packages (from torch>=2.6->transformer_lens) (3.1.6)\n",
            "Requirement already satisfied: nvidia-cuda-nvrtc-cu12==12.4.127 in /usr/local/lib/python3.11/dist-packages (from torch>=2.6->transformer_lens) (12.4.127)\n",
            "Requirement already satisfied: nvidia-cuda-runtime-cu12==12.4.127 in /usr/local/lib/python3.11/dist-packages (from torch>=2.6->transformer_lens) (12.4.127)\n",
            "Requirement already satisfied: nvidia-cuda-cupti-cu12==12.4.127 in /usr/local/lib/python3.11/dist-packages (from torch>=2.6->transformer_lens) (12.4.127)\n",
            "Requirement already satisfied: nvidia-cudnn-cu12==9.1.0.70 in /usr/local/lib/python3.11/dist-packages (from torch>=2.6->transformer_lens) (9.1.0.70)\n",
            "Requirement already satisfied: nvidia-cublas-cu12==12.4.5.8 in /usr/local/lib/python3.11/dist-packages (from torch>=2.6->transformer_lens) (12.4.5.8)\n",
            "Requirement already satisfied: nvidia-cufft-cu12==11.2.1.3 in /usr/local/lib/python3.11/dist-packages (from torch>=2.6->transformer_lens) (11.2.1.3)\n",
            "Requirement already satisfied: nvidia-curand-cu12==10.3.5.147 in /usr/local/lib/python3.11/dist-packages (from torch>=2.6->transformer_lens) (10.3.5.147)\n",
            "Requirement already satisfied: nvidia-cusolver-cu12==11.6.1.9 in /usr/local/lib/python3.11/dist-packages (from torch>=2.6->transformer_lens) (11.6.1.9)\n",
            "Requirement already satisfied: nvidia-cusparse-cu12==12.3.1.170 in /usr/local/lib/python3.11/dist-packages (from torch>=2.6->transformer_lens) (12.3.1.170)\n",
            "Requirement already satisfied: nvidia-cusparselt-cu12==0.6.2 in /usr/local/lib/python3.11/dist-packages (from torch>=2.6->transformer_lens) (0.6.2)\n",
            "Requirement already satisfied: nvidia-nccl-cu12==2.21.5 in /usr/local/lib/python3.11/dist-packages (from torch>=2.6->transformer_lens) (2.21.5)\n",
            "Requirement already satisfied: nvidia-nvtx-cu12==12.4.127 in /usr/local/lib/python3.11/dist-packages (from torch>=2.6->transformer_lens) (12.4.127)\n",
            "Requirement already satisfied: nvidia-nvjitlink-cu12==12.4.127 in /usr/local/lib/python3.11/dist-packages (from torch>=2.6->transformer_lens) (12.4.127)\n",
            "Requirement already satisfied: triton==3.2.0 in /usr/local/lib/python3.11/dist-packages (from torch>=2.6->transformer_lens) (3.2.0)\n",
            "Requirement already satisfied: sympy==1.13.1 in /usr/local/lib/python3.11/dist-packages (from torch>=2.6->transformer_lens) (1.13.1)\n",
            "Requirement already satisfied: mpmath<1.4,>=1.1.0 in /usr/local/lib/python3.11/dist-packages (from sympy==1.13.1->torch>=2.6->transformer_lens) (1.3.0)\n",
            "Requirement already satisfied: regex!=2019.12.17 in /usr/local/lib/python3.11/dist-packages (from transformers>=4.51->transformer_lens) (2024.11.6)\n",
            "Requirement already satisfied: tokenizers<0.22,>=0.21 in /usr/local/lib/python3.11/dist-packages (from transformers>=4.51->transformer_lens) (0.21.4)\n",
            "Requirement already satisfied: click!=8.0.0,>=7.1 in /usr/local/lib/python3.11/dist-packages (from wandb>=0.13.5->transformer_lens) (8.2.1)\n",
            "Requirement already satisfied: gitpython!=3.1.29,>=1.0.0 in /usr/local/lib/python3.11/dist-packages (from wandb>=0.13.5->transformer_lens) (3.1.45)\n",
            "Requirement already satisfied: platformdirs in /usr/local/lib/python3.11/dist-packages (from wandb>=0.13.5->transformer_lens) (4.3.8)\n",
            "Requirement already satisfied: protobuf!=4.21.0,!=5.28.0,<7,>=3.19.0 in /usr/local/lib/python3.11/dist-packages (from wandb>=0.13.5->transformer_lens) (5.29.5)\n",
            "Requirement already satisfied: pydantic<3 in /usr/local/lib/python3.11/dist-packages (from wandb>=0.13.5->transformer_lens) (2.11.7)\n",
            "Requirement already satisfied: sentry-sdk>=2.0.0 in /usr/local/lib/python3.11/dist-packages (from wandb>=0.13.5->transformer_lens) (2.34.1)\n",
            "Requirement already satisfied: aiohttp!=4.0.0a0,!=4.0.0a1 in /usr/local/lib/python3.11/dist-packages (from fsspec[http]<=2025.3.0,>=2023.1.0->datasets>=2.7.1->transformer_lens) (3.12.15)\n",
            "Requirement already satisfied: gitdb<5,>=4.0.1 in /usr/local/lib/python3.11/dist-packages (from gitpython!=3.1.29,>=1.0.0->wandb>=0.13.5->transformer_lens) (4.0.12)\n",
            "Requirement already satisfied: hf-xet<2.0.0,>=1.1.3 in /usr/local/lib/python3.11/dist-packages (from huggingface_hub>=0.21.0->accelerate>=0.23.0->transformer_lens) (1.1.5)\n",
            "Requirement already satisfied: mdurl~=0.1 in /usr/local/lib/python3.11/dist-packages (from markdown-it-py>=2.2.0->rich>=12.6.0->transformer_lens) (0.1.2)\n",
            "Requirement already satisfied: annotated-types>=0.6.0 in /usr/local/lib/python3.11/dist-packages (from pydantic<3->wandb>=0.13.5->transformer_lens) (0.7.0)\n",
            "Requirement already satisfied: pydantic-core==2.33.2 in /usr/local/lib/python3.11/dist-packages (from pydantic<3->wandb>=0.13.5->transformer_lens) (2.33.2)\n",
            "Requirement already satisfied: typing-inspection>=0.4.0 in /usr/local/lib/python3.11/dist-packages (from pydantic<3->wandb>=0.13.5->transformer_lens) (0.4.1)\n",
            "Requirement already satisfied: six>=1.5 in /usr/local/lib/python3.11/dist-packages (from python-dateutil>=2.8.2->pandas>=1.1.5->transformer_lens) (1.17.0)\n",
            "Requirement already satisfied: charset-normalizer<4,>=2 in /usr/local/lib/python3.11/dist-packages (from requests>=2.32.2->datasets>=2.7.1->transformer_lens) (3.4.2)\n",
            "Requirement already satisfied: idna<4,>=2.5 in /usr/local/lib/python3.11/dist-packages (from requests>=2.32.2->datasets>=2.7.1->transformer_lens) (3.10)\n",
            "Requirement already satisfied: urllib3<3,>=1.21.1 in /usr/local/lib/python3.11/dist-packages (from requests>=2.32.2->datasets>=2.7.1->transformer_lens) (2.5.0)\n",
            "Requirement already satisfied: certifi>=2017.4.17 in /usr/local/lib/python3.11/dist-packages (from requests>=2.32.2->datasets>=2.7.1->transformer_lens) (2025.7.14)\n",
            "Requirement already satisfied: MarkupSafe>=2.0 in /usr/local/lib/python3.11/dist-packages (from jinja2->torch>=2.6->transformer_lens) (3.0.2)\n",
            "Requirement already satisfied: aiohappyeyeballs>=2.5.0 in /usr/local/lib/python3.11/dist-packages (from aiohttp!=4.0.0a0,!=4.0.0a1->fsspec[http]<=2025.3.0,>=2023.1.0->datasets>=2.7.1->transformer_lens) (2.6.1)\n",
            "Requirement already satisfied: aiosignal>=1.4.0 in /usr/local/lib/python3.11/dist-packages (from aiohttp!=4.0.0a0,!=4.0.0a1->fsspec[http]<=2025.3.0,>=2023.1.0->datasets>=2.7.1->transformer_lens) (1.4.0)\n",
            "Requirement already satisfied: attrs>=17.3.0 in /usr/local/lib/python3.11/dist-packages (from aiohttp!=4.0.0a0,!=4.0.0a1->fsspec[http]<=2025.3.0,>=2023.1.0->datasets>=2.7.1->transformer_lens) (25.3.0)\n",
            "Requirement already satisfied: frozenlist>=1.1.1 in /usr/local/lib/python3.11/dist-packages (from aiohttp!=4.0.0a0,!=4.0.0a1->fsspec[http]<=2025.3.0,>=2023.1.0->datasets>=2.7.1->transformer_lens) (1.7.0)\n",
            "Requirement already satisfied: multidict<7.0,>=4.5 in /usr/local/lib/python3.11/dist-packages (from aiohttp!=4.0.0a0,!=4.0.0a1->fsspec[http]<=2025.3.0,>=2023.1.0->datasets>=2.7.1->transformer_lens) (6.6.3)\n",
            "Requirement already satisfied: propcache>=0.2.0 in /usr/local/lib/python3.11/dist-packages (from aiohttp!=4.0.0a0,!=4.0.0a1->fsspec[http]<=2025.3.0,>=2023.1.0->datasets>=2.7.1->transformer_lens) (0.3.2)\n",
            "Requirement already satisfied: yarl<2.0,>=1.17.0 in /usr/local/lib/python3.11/dist-packages (from aiohttp!=4.0.0a0,!=4.0.0a1->fsspec[http]<=2025.3.0,>=2023.1.0->datasets>=2.7.1->transformer_lens) (1.20.1)\n",
            "Requirement already satisfied: smmap<6,>=3.0.1 in /usr/local/lib/python3.11/dist-packages (from gitdb<5,>=4.0.1->gitpython!=3.1.29,>=1.0.0->wandb>=0.13.5->transformer_lens) (5.0.2)\n"
          ]
        }
      ]
    },
    {
      "cell_type": "code",
      "source": [
        "# What are we trying to create for a dataset:\n",
        "# A0a, B1b, C0c, A1d,\n",
        "# Given that these represent Subject - Relation - Attribute, so A0a could be: A(ris) 0(lives) a(arizona)\n",
        "from itertools import chain\n"
      ],
      "metadata": {
        "id": "HMotdUh9iIH2"
      },
      "execution_count": 3,
      "outputs": []
    },
    {
      "cell_type": "code",
      "source": [
        "E = 100 # num entities\n",
        "A = 100 # num attributes\n",
        "T = 5 # num types/relations\n",
        "SEP = 205 # as seperator between relations\n",
        "Q = 206 # question token\n",
        "PAD = 207\n",
        "D_VOCAB = 208\n",
        "\n",
        "N_WORLDS = 20000 # (also dataset size)\n",
        "MIN_FACTS, MAX_FACTS = 4, 8\n",
        "SEED = 0\n",
        "\n",
        "ENTITIES   = np.arange(0, E) # 0..99\n",
        "ATTRS      = np.arange(100, 100 + A) # 100..199\n",
        "TYPES      = np.arange(200, 200 + T) # 200..204\n",
        "\n",
        "rng = np.random.default_rng(SEED)\n",
        "\n",
        "def attr_for(world_id: int, e_tok: int, t_tok: int) -> int:\n",
        "    e = e_tok\n",
        "    t = t_tok - 200\n",
        "    idx = (e * 31 + t * 17 + world_id * 53) % A\n",
        "    return 100 + idx\n",
        "\n",
        "def produce_example(world_id: int, num_relations: int):\n",
        "\n",
        "    # all possible entity, type combinations\n",
        "    all_relations = [(int(e), int(t)) for e in ENTITIES for t in TYPES]\n",
        "    # [(0, 200), (1, 200)... (99, 204), (100, 204)]\n",
        "    # pairs all relations with every entity\n",
        "\n",
        "    # choose *num_relations* many\n",
        "    chosen = rng.choice(len(all_relations), size=num_relations, replace=False)\n",
        "    relations = [all_relations[i] for i in chosen]\n",
        "    # choose between 4 to 5 of such relationships\n",
        "\n",
        "    # Facts: (E, T, A) with world-specific A\n",
        "    facts = [(e, t, attr_for(world_id, e, t)) for (e, t) in relations]\n",
        "    # completes the relationships by assigning an attribute to the relations\n",
        "    # and creating a fact.\n",
        "    # Calculating the attribute value is done by a hash function.\n",
        "\n",
        "    # Pick one fact to query for\n",
        "    q_idx = rng.integers(0, num_relations)\n",
        "    Eq, Tq, Aq = facts[q_idx]\n",
        "\n",
        "    # Serialize: E T A SEP ... SEP Eq Tq Q\n",
        "    seq = []\n",
        "    for (e, t, a) in facts:\n",
        "        seq.extend([e, t, a, SEP])\n",
        "    seq.extend([Eq, Tq, Q])\n",
        "\n",
        "    label = Aq\n",
        "    return seq, label, facts\n",
        "\n",
        "rows = []\n",
        "all_facts = []\n",
        "all_seqs = []\n",
        "for w in range(N_WORLDS):\n",
        "    num_relations = int(rng.integers(MIN_FACTS, MAX_FACTS + 1))\n",
        "    seq, label, facts = produce_example(w, num_relations)\n",
        "    all_seqs.append(seq)\n",
        "    all_facts.append(facts)\n",
        "    rows.append({\"world_id\": w, \"tokens\": seq, \"label\": label})\n",
        "\n",
        "df = pd.DataFrame(rows)"
      ],
      "metadata": {
        "id": "YP0Sys-tiKPt"
      },
      "execution_count": 27,
      "outputs": []
    },
    {
      "cell_type": "code",
      "source": [
        "all_seqs[0]"
      ],
      "metadata": {
        "id": "MjSe3H-uLnuN",
        "outputId": "51a554b0-eb07-4b49-f409-4f932eab74c6",
        "colab": {
          "base_uri": "https://localhost:8080/"
        }
      },
      "execution_count": 30,
      "outputs": [
        {
          "output_type": "execute_result",
          "data": {
            "text/plain": [
              "[62,\n",
              " 204,\n",
              " 190,\n",
              " 205,\n",
              " 50,\n",
              " 202,\n",
              " 184,\n",
              " 205,\n",
              " 30,\n",
              " 202,\n",
              " 164,\n",
              " 205,\n",
              " 17,\n",
              " 202,\n",
              " 161,\n",
              " 205,\n",
              " 26,\n",
              " 203,\n",
              " 157,\n",
              " 205,\n",
              " 7,\n",
              " 202,\n",
              " 151,\n",
              " 205,\n",
              " 4,\n",
              " 200,\n",
              " 124,\n",
              " 205,\n",
              " 1,\n",
              " 203,\n",
              " 182,\n",
              " 205,\n",
              " 7,\n",
              " 202,\n",
              " 206]"
            ]
          },
          "metadata": {},
          "execution_count": 30
        }
      ]
    },
    {
      "cell_type": "code",
      "source": [],
      "metadata": {
        "id": "agdYQeAMLnx3"
      },
      "execution_count": null,
      "outputs": []
    },
    {
      "cell_type": "code",
      "source": [],
      "metadata": {
        "id": "1OAX-oSMLn5o"
      },
      "execution_count": null,
      "outputs": []
    },
    {
      "cell_type": "code",
      "source": [
        "flat_facts = list(chain.from_iterable(all_facts))"
      ],
      "metadata": {
        "id": "as4Vdp7K9nk-"
      },
      "execution_count": 6,
      "outputs": []
    },
    {
      "cell_type": "code",
      "source": [
        "len(flat_facts), len(set(flat_facts))"
      ],
      "metadata": {
        "id": "mKTYXPcX_hH1",
        "outputId": "68d4d196-7e3a-4284-f93e-8b5419fa78f7",
        "colab": {
          "base_uri": "https://localhost:8080/"
        }
      },
      "execution_count": 7,
      "outputs": [
        {
          "output_type": "execute_result",
          "data": {
            "text/plain": [
              "(119835, 45461)"
            ]
          },
          "metadata": {},
          "execution_count": 7
        }
      ]
    },
    {
      "cell_type": "code",
      "source": [
        "unique_facts = list(set(flat_facts))"
      ],
      "metadata": {
        "id": "tUMyQtKZ_hLN"
      },
      "execution_count": 8,
      "outputs": []
    },
    {
      "cell_type": "code",
      "source": [
        "from collections import defaultdict\n",
        "dd_att = defaultdict(list)\n",
        "dd_ent = defaultdict(list)\n",
        "for att in range(100, 200):\n",
        "  for other_ex in unique_facts:\n",
        "    if other_ex[2] == att:\n",
        "      dd_att[att].append((other_ex[0], other_ex[1]))\n",
        "\n",
        "for ent in range(0,100):\n",
        "  for other_ex in unique_facts:\n",
        "    if other_ex[0] == ent:\n",
        "      dd_ent[ent].append((other_ex[1], other_ex[2]))"
      ],
      "metadata": {
        "id": "7WMG0INOADQ-"
      },
      "execution_count": 20,
      "outputs": []
    },
    {
      "cell_type": "code",
      "source": [
        "len(dd_ent[0]), dd_ent[1][:10], len(set(dd_att[100])), len(dd_att[100])"
      ],
      "metadata": {
        "id": "7JZiQpV_ADUr",
        "outputId": "def54e96-8027-4d9c-dd1f-c29823105aec",
        "colab": {
          "base_uri": "https://localhost:8080/"
        }
      },
      "execution_count": 26,
      "outputs": [
        {
          "output_type": "execute_result",
          "data": {
            "text/plain": [
              "(469,\n",
              " [(202, 197),\n",
              "  (200, 100),\n",
              "  (201, 189),\n",
              "  (202, 144),\n",
              "  (204, 166),\n",
              "  (203, 158),\n",
              "  (204, 113),\n",
              "  (201, 165),\n",
              "  (202, 120),\n",
              "  (200, 157)],\n",
              " 452,\n",
              " 452)"
            ]
          },
          "metadata": {},
          "execution_count": 26
        }
      ]
    },
    {
      "cell_type": "code",
      "source": [
        "# for each (e, r) => a, where e in E, r in R and a in A\n",
        "#"
      ],
      "metadata": {
        "id": "YZ0aKlxNADYC"
      },
      "execution_count": null,
      "outputs": []
    },
    {
      "cell_type": "code",
      "source": [],
      "metadata": {
        "id": "grGOvIKD_hO2"
      },
      "execution_count": null,
      "outputs": []
    },
    {
      "cell_type": "code",
      "source": [
        "df.head(10)"
      ],
      "metadata": {
        "colab": {
          "base_uri": "https://localhost:8080/",
          "height": 363
        },
        "id": "ss2lrIAPiMR6",
        "outputId": "a34d2f28-1223-4b7e-c28e-a5cbe831f741"
      },
      "execution_count": 6,
      "outputs": [
        {
          "output_type": "execute_result",
          "data": {
            "text/plain": [
              "   world_id                                             tokens  label\n",
              "0         0  [62, 204, 190, 205, 50, 202, 184, 205, 30, 202...    151\n",
              "1         1  [81, 201, 181, 205, 92, 203, 156, 205, 55, 202...    167\n",
              "2         2  [29, 204, 173, 205, 8, 204, 122, 205, 48, 200,...    154\n",
              "3         3  [25, 202, 168, 205, 99, 202, 162, 205, 60, 204...    137\n",
              "4         4  [38, 202, 124, 205, 57, 202, 113, 205, 71, 204...    124\n",
              "5         5  [56, 203, 152, 205, 52, 201, 194, 205, 71, 204...    194\n",
              "6         6  [40, 200, 158, 205, 78, 203, 187, 205, 61, 202...    199\n",
              "7         7  [89, 202, 164, 205, 14, 204, 173, 205, 56, 204...    164\n",
              "8         8  [40, 200, 164, 205, 62, 201, 163, 205, 19, 203...    155\n",
              "9         9  [36, 202, 127, 205, 93, 204, 128, 205, 75, 201...    119"
            ],
            "text/html": [
              "\n",
              "  <div id=\"df-46ee4d07-6cfe-4cd4-adc6-114439fa2d45\" class=\"colab-df-container\">\n",
              "    <div>\n",
              "<style scoped>\n",
              "    .dataframe tbody tr th:only-of-type {\n",
              "        vertical-align: middle;\n",
              "    }\n",
              "\n",
              "    .dataframe tbody tr th {\n",
              "        vertical-align: top;\n",
              "    }\n",
              "\n",
              "    .dataframe thead th {\n",
              "        text-align: right;\n",
              "    }\n",
              "</style>\n",
              "<table border=\"1\" class=\"dataframe\">\n",
              "  <thead>\n",
              "    <tr style=\"text-align: right;\">\n",
              "      <th></th>\n",
              "      <th>world_id</th>\n",
              "      <th>tokens</th>\n",
              "      <th>label</th>\n",
              "    </tr>\n",
              "  </thead>\n",
              "  <tbody>\n",
              "    <tr>\n",
              "      <th>0</th>\n",
              "      <td>0</td>\n",
              "      <td>[62, 204, 190, 205, 50, 202, 184, 205, 30, 202...</td>\n",
              "      <td>151</td>\n",
              "    </tr>\n",
              "    <tr>\n",
              "      <th>1</th>\n",
              "      <td>1</td>\n",
              "      <td>[81, 201, 181, 205, 92, 203, 156, 205, 55, 202...</td>\n",
              "      <td>167</td>\n",
              "    </tr>\n",
              "    <tr>\n",
              "      <th>2</th>\n",
              "      <td>2</td>\n",
              "      <td>[29, 204, 173, 205, 8, 204, 122, 205, 48, 200,...</td>\n",
              "      <td>154</td>\n",
              "    </tr>\n",
              "    <tr>\n",
              "      <th>3</th>\n",
              "      <td>3</td>\n",
              "      <td>[25, 202, 168, 205, 99, 202, 162, 205, 60, 204...</td>\n",
              "      <td>137</td>\n",
              "    </tr>\n",
              "    <tr>\n",
              "      <th>4</th>\n",
              "      <td>4</td>\n",
              "      <td>[38, 202, 124, 205, 57, 202, 113, 205, 71, 204...</td>\n",
              "      <td>124</td>\n",
              "    </tr>\n",
              "    <tr>\n",
              "      <th>5</th>\n",
              "      <td>5</td>\n",
              "      <td>[56, 203, 152, 205, 52, 201, 194, 205, 71, 204...</td>\n",
              "      <td>194</td>\n",
              "    </tr>\n",
              "    <tr>\n",
              "      <th>6</th>\n",
              "      <td>6</td>\n",
              "      <td>[40, 200, 158, 205, 78, 203, 187, 205, 61, 202...</td>\n",
              "      <td>199</td>\n",
              "    </tr>\n",
              "    <tr>\n",
              "      <th>7</th>\n",
              "      <td>7</td>\n",
              "      <td>[89, 202, 164, 205, 14, 204, 173, 205, 56, 204...</td>\n",
              "      <td>164</td>\n",
              "    </tr>\n",
              "    <tr>\n",
              "      <th>8</th>\n",
              "      <td>8</td>\n",
              "      <td>[40, 200, 164, 205, 62, 201, 163, 205, 19, 203...</td>\n",
              "      <td>155</td>\n",
              "    </tr>\n",
              "    <tr>\n",
              "      <th>9</th>\n",
              "      <td>9</td>\n",
              "      <td>[36, 202, 127, 205, 93, 204, 128, 205, 75, 201...</td>\n",
              "      <td>119</td>\n",
              "    </tr>\n",
              "  </tbody>\n",
              "</table>\n",
              "</div>\n",
              "    <div class=\"colab-df-buttons\">\n",
              "\n",
              "  <div class=\"colab-df-container\">\n",
              "    <button class=\"colab-df-convert\" onclick=\"convertToInteractive('df-46ee4d07-6cfe-4cd4-adc6-114439fa2d45')\"\n",
              "            title=\"Convert this dataframe to an interactive table.\"\n",
              "            style=\"display:none;\">\n",
              "\n",
              "  <svg xmlns=\"http://www.w3.org/2000/svg\" height=\"24px\" viewBox=\"0 -960 960 960\">\n",
              "    <path d=\"M120-120v-720h720v720H120Zm60-500h600v-160H180v160Zm220 220h160v-160H400v160Zm0 220h160v-160H400v160ZM180-400h160v-160H180v160Zm440 0h160v-160H620v160ZM180-180h160v-160H180v160Zm440 0h160v-160H620v160Z\"/>\n",
              "  </svg>\n",
              "    </button>\n",
              "\n",
              "  <style>\n",
              "    .colab-df-container {\n",
              "      display:flex;\n",
              "      gap: 12px;\n",
              "    }\n",
              "\n",
              "    .colab-df-convert {\n",
              "      background-color: #E8F0FE;\n",
              "      border: none;\n",
              "      border-radius: 50%;\n",
              "      cursor: pointer;\n",
              "      display: none;\n",
              "      fill: #1967D2;\n",
              "      height: 32px;\n",
              "      padding: 0 0 0 0;\n",
              "      width: 32px;\n",
              "    }\n",
              "\n",
              "    .colab-df-convert:hover {\n",
              "      background-color: #E2EBFA;\n",
              "      box-shadow: 0px 1px 2px rgba(60, 64, 67, 0.3), 0px 1px 3px 1px rgba(60, 64, 67, 0.15);\n",
              "      fill: #174EA6;\n",
              "    }\n",
              "\n",
              "    .colab-df-buttons div {\n",
              "      margin-bottom: 4px;\n",
              "    }\n",
              "\n",
              "    [theme=dark] .colab-df-convert {\n",
              "      background-color: #3B4455;\n",
              "      fill: #D2E3FC;\n",
              "    }\n",
              "\n",
              "    [theme=dark] .colab-df-convert:hover {\n",
              "      background-color: #434B5C;\n",
              "      box-shadow: 0px 1px 3px 1px rgba(0, 0, 0, 0.15);\n",
              "      filter: drop-shadow(0px 1px 2px rgba(0, 0, 0, 0.3));\n",
              "      fill: #FFFFFF;\n",
              "    }\n",
              "  </style>\n",
              "\n",
              "    <script>\n",
              "      const buttonEl =\n",
              "        document.querySelector('#df-46ee4d07-6cfe-4cd4-adc6-114439fa2d45 button.colab-df-convert');\n",
              "      buttonEl.style.display =\n",
              "        google.colab.kernel.accessAllowed ? 'block' : 'none';\n",
              "\n",
              "      async function convertToInteractive(key) {\n",
              "        const element = document.querySelector('#df-46ee4d07-6cfe-4cd4-adc6-114439fa2d45');\n",
              "        const dataTable =\n",
              "          await google.colab.kernel.invokeFunction('convertToInteractive',\n",
              "                                                    [key], {});\n",
              "        if (!dataTable) return;\n",
              "\n",
              "        const docLinkHtml = 'Like what you see? Visit the ' +\n",
              "          '<a target=\"_blank\" href=https://colab.research.google.com/notebooks/data_table.ipynb>data table notebook</a>'\n",
              "          + ' to learn more about interactive tables.';\n",
              "        element.innerHTML = '';\n",
              "        dataTable['output_type'] = 'display_data';\n",
              "        await google.colab.output.renderOutput(dataTable, element);\n",
              "        const docLink = document.createElement('div');\n",
              "        docLink.innerHTML = docLinkHtml;\n",
              "        element.appendChild(docLink);\n",
              "      }\n",
              "    </script>\n",
              "  </div>\n",
              "\n",
              "\n",
              "    <div id=\"df-c06444cf-6de5-432d-8d7d-3ba8474aadf4\">\n",
              "      <button class=\"colab-df-quickchart\" onclick=\"quickchart('df-c06444cf-6de5-432d-8d7d-3ba8474aadf4')\"\n",
              "                title=\"Suggest charts\"\n",
              "                style=\"display:none;\">\n",
              "\n",
              "<svg xmlns=\"http://www.w3.org/2000/svg\" height=\"24px\"viewBox=\"0 0 24 24\"\n",
              "     width=\"24px\">\n",
              "    <g>\n",
              "        <path d=\"M19 3H5c-1.1 0-2 .9-2 2v14c0 1.1.9 2 2 2h14c1.1 0 2-.9 2-2V5c0-1.1-.9-2-2-2zM9 17H7v-7h2v7zm4 0h-2V7h2v10zm4 0h-2v-4h2v4z\"/>\n",
              "    </g>\n",
              "</svg>\n",
              "      </button>\n",
              "\n",
              "<style>\n",
              "  .colab-df-quickchart {\n",
              "      --bg-color: #E8F0FE;\n",
              "      --fill-color: #1967D2;\n",
              "      --hover-bg-color: #E2EBFA;\n",
              "      --hover-fill-color: #174EA6;\n",
              "      --disabled-fill-color: #AAA;\n",
              "      --disabled-bg-color: #DDD;\n",
              "  }\n",
              "\n",
              "  [theme=dark] .colab-df-quickchart {\n",
              "      --bg-color: #3B4455;\n",
              "      --fill-color: #D2E3FC;\n",
              "      --hover-bg-color: #434B5C;\n",
              "      --hover-fill-color: #FFFFFF;\n",
              "      --disabled-bg-color: #3B4455;\n",
              "      --disabled-fill-color: #666;\n",
              "  }\n",
              "\n",
              "  .colab-df-quickchart {\n",
              "    background-color: var(--bg-color);\n",
              "    border: none;\n",
              "    border-radius: 50%;\n",
              "    cursor: pointer;\n",
              "    display: none;\n",
              "    fill: var(--fill-color);\n",
              "    height: 32px;\n",
              "    padding: 0;\n",
              "    width: 32px;\n",
              "  }\n",
              "\n",
              "  .colab-df-quickchart:hover {\n",
              "    background-color: var(--hover-bg-color);\n",
              "    box-shadow: 0 1px 2px rgba(60, 64, 67, 0.3), 0 1px 3px 1px rgba(60, 64, 67, 0.15);\n",
              "    fill: var(--button-hover-fill-color);\n",
              "  }\n",
              "\n",
              "  .colab-df-quickchart-complete:disabled,\n",
              "  .colab-df-quickchart-complete:disabled:hover {\n",
              "    background-color: var(--disabled-bg-color);\n",
              "    fill: var(--disabled-fill-color);\n",
              "    box-shadow: none;\n",
              "  }\n",
              "\n",
              "  .colab-df-spinner {\n",
              "    border: 2px solid var(--fill-color);\n",
              "    border-color: transparent;\n",
              "    border-bottom-color: var(--fill-color);\n",
              "    animation:\n",
              "      spin 1s steps(1) infinite;\n",
              "  }\n",
              "\n",
              "  @keyframes spin {\n",
              "    0% {\n",
              "      border-color: transparent;\n",
              "      border-bottom-color: var(--fill-color);\n",
              "      border-left-color: var(--fill-color);\n",
              "    }\n",
              "    20% {\n",
              "      border-color: transparent;\n",
              "      border-left-color: var(--fill-color);\n",
              "      border-top-color: var(--fill-color);\n",
              "    }\n",
              "    30% {\n",
              "      border-color: transparent;\n",
              "      border-left-color: var(--fill-color);\n",
              "      border-top-color: var(--fill-color);\n",
              "      border-right-color: var(--fill-color);\n",
              "    }\n",
              "    40% {\n",
              "      border-color: transparent;\n",
              "      border-right-color: var(--fill-color);\n",
              "      border-top-color: var(--fill-color);\n",
              "    }\n",
              "    60% {\n",
              "      border-color: transparent;\n",
              "      border-right-color: var(--fill-color);\n",
              "    }\n",
              "    80% {\n",
              "      border-color: transparent;\n",
              "      border-right-color: var(--fill-color);\n",
              "      border-bottom-color: var(--fill-color);\n",
              "    }\n",
              "    90% {\n",
              "      border-color: transparent;\n",
              "      border-bottom-color: var(--fill-color);\n",
              "    }\n",
              "  }\n",
              "</style>\n",
              "\n",
              "      <script>\n",
              "        async function quickchart(key) {\n",
              "          const quickchartButtonEl =\n",
              "            document.querySelector('#' + key + ' button');\n",
              "          quickchartButtonEl.disabled = true;  // To prevent multiple clicks.\n",
              "          quickchartButtonEl.classList.add('colab-df-spinner');\n",
              "          try {\n",
              "            const charts = await google.colab.kernel.invokeFunction(\n",
              "                'suggestCharts', [key], {});\n",
              "          } catch (error) {\n",
              "            console.error('Error during call to suggestCharts:', error);\n",
              "          }\n",
              "          quickchartButtonEl.classList.remove('colab-df-spinner');\n",
              "          quickchartButtonEl.classList.add('colab-df-quickchart-complete');\n",
              "        }\n",
              "        (() => {\n",
              "          let quickchartButtonEl =\n",
              "            document.querySelector('#df-c06444cf-6de5-432d-8d7d-3ba8474aadf4 button');\n",
              "          quickchartButtonEl.style.display =\n",
              "            google.colab.kernel.accessAllowed ? 'block' : 'none';\n",
              "        })();\n",
              "      </script>\n",
              "    </div>\n",
              "\n",
              "    </div>\n",
              "  </div>\n"
            ],
            "application/vnd.google.colaboratory.intrinsic+json": {
              "type": "dataframe",
              "variable_name": "df",
              "summary": "{\n  \"name\": \"df\",\n  \"rows\": 20000,\n  \"fields\": [\n    {\n      \"column\": \"world_id\",\n      \"properties\": {\n        \"dtype\": \"number\",\n        \"std\": 5773,\n        \"min\": 0,\n        \"max\": 19999,\n        \"num_unique_values\": 20000,\n        \"samples\": [\n          10650,\n          2041,\n          8668\n        ],\n        \"semantic_type\": \"\",\n        \"description\": \"\"\n      }\n    },\n    {\n      \"column\": \"tokens\",\n      \"properties\": {\n        \"dtype\": \"object\",\n        \"semantic_type\": \"\",\n        \"description\": \"\"\n      }\n    },\n    {\n      \"column\": \"label\",\n      \"properties\": {\n        \"dtype\": \"number\",\n        \"std\": 28,\n        \"min\": 100,\n        \"max\": 199,\n        \"num_unique_values\": 100,\n        \"samples\": [\n          195,\n          131,\n          102\n        ],\n        \"semantic_type\": \"\",\n        \"description\": \"\"\n      }\n    }\n  ]\n}"
            }
          },
          "metadata": {},
          "execution_count": 6
        }
      ]
    },
    {
      "cell_type": "code",
      "source": [
        "### Model"
      ],
      "metadata": {
        "id": "7AANiZJdmEC6"
      },
      "execution_count": null,
      "outputs": []
    },
    {
      "cell_type": "code",
      "source": [
        "from transformer_lens import HookedTransformer, HookedTransformerConfig\n",
        "\n",
        "cfg = HookedTransformerConfig(\n",
        "    n_layers=2,\n",
        "    n_heads=4,\n",
        "    d_model=64,\n",
        "    d_head=16,\n",
        "    d_mlp=128,\n",
        "    n_ctx=64,\n",
        "    d_vocab=208,\n",
        "    act_fn=\"gelu\",\n",
        "    attn_only=False,\n",
        "    normalization_type=\"LN\",\n",
        ")\n",
        "model = HookedTransformer(cfg)"
      ],
      "metadata": {
        "id": "Z3yEfc24ktZj"
      },
      "execution_count": 111,
      "outputs": []
    },
    {
      "cell_type": "code",
      "source": [
        "import os\n",
        "import torch\n",
        "from torch import nn\n",
        "import torch.nn.functional as F\n",
        "from torch.utils.data import Dataset, DataLoader\n",
        "from torch.utils.tensorboard import SummaryWriter\n",
        "from sklearn.model_selection import train_test_split"
      ],
      "metadata": {
        "id": "24VugmIvmL9S"
      },
      "execution_count": 98,
      "outputs": []
    },
    {
      "cell_type": "code",
      "source": [
        "IGNORE_INDEX = -100\n",
        "\n",
        "class EntityBindingDataset(Dataset):\n",
        "    def __init__(self, dataframe, parse_tokens_if_str=True):\n",
        "        self.df = dataframe.reset_index(drop=True)\n",
        "        self.parse_tokens_if_str = parse_tokens_if_str\n",
        "\n",
        "    def __len__(self):\n",
        "        return len(self.df)\n",
        "\n",
        "    def __getitem__(self, idx):\n",
        "        row = self.df.iloc[idx]\n",
        "        seq = row[\"tokens\"]\n",
        "        tokens = torch.tensor(seq, dtype=torch.long)\n",
        "        label  = torch.tensor(int(row[\"label\"]), dtype=torch.long)\n",
        "        return tokens, label"
      ],
      "metadata": {
        "id": "JgAvaPx2nsKs"
      },
      "execution_count": 99,
      "outputs": []
    },
    {
      "cell_type": "code",
      "source": [
        "def train_collate_fn(batch, rng=np.random.default_rng()):\n",
        "    max_len = max(len(seq) for seq,_ in batch)\n",
        "    B = len(batch)\n",
        "    toks   = torch.full((B, max_len), PAD, dtype=torch.long)\n",
        "    target = torch.full((B, max_len), IGNORE_INDEX, dtype=torch.long)\n",
        "\n",
        "    for i, (seq, label) in enumerate(batch):\n",
        "        s = shuffle_facts(seq.tolist() if torch.is_tensor(seq) else seq, rng)\n",
        "        L = len(s)\n",
        "        toks[i, :L] = torch.tensor(s, dtype=torch.long)\n",
        "        target[i, L-1] = label\n",
        "    return toks, target\n",
        "\n",
        "def val_collate_fn(batch):\n",
        "    max_len = max(len(seq) for seq,_ in batch)\n",
        "    B = len(batch)\n",
        "    toks   = torch.full((B, max_len), PAD, dtype=torch.long)\n",
        "    target = torch.full((B, max_len), IGNORE_INDEX, dtype=torch.long)\n",
        "\n",
        "    for i, (seq, label) in enumerate(batch):\n",
        "        s = seq.tolist() if torch.is_tensor(seq) else seq\n",
        "        L = len(s)\n",
        "        toks[i, :L] = torch.tensor(s, dtype=torch.long)\n",
        "        target[i, L-1] = label\n",
        "    return toks, target\n"
      ],
      "metadata": {
        "id": "-JijfuCJz_hX"
      },
      "execution_count": 100,
      "outputs": []
    },
    {
      "cell_type": "code",
      "source": [
        "def shuffle_facts(seq, rng=np.random.default_rng()):\n",
        "    seps = [i for i,t in enumerate(seq) if t == SEP]\n",
        "    context = seq[:seps[-1]+1]\n",
        "    query_part = seq[seps[-1]+1:]\n",
        "    Eq, Tq = query_part[0], query_part[1]\n",
        "    facts = [context[i:i+4] for i in range(0, len(context), 4)]\n",
        "    rng.shuffle(facts)\n",
        "\n",
        "    return [x for f in facts for x in f] + query_part"
      ],
      "metadata": {
        "id": "eaZ64Qmv0WkJ"
      },
      "execution_count": 101,
      "outputs": []
    },
    {
      "cell_type": "code",
      "source": [
        "train_df, temp_df = train_test_split(df, test_size=0.3, random_state=42)\n",
        "val_df, test_df = train_test_split(temp_df, test_size=0.5, random_state=42)\n",
        "\n",
        "train_dataset = EntityBindingDataset(train_df)\n",
        "val_dataset = EntityBindingDataset(val_df)\n",
        "\n",
        "train_loader = DataLoader(train_dataset, batch_size=32, shuffle=True, collate_fn=train_collate_fn)\n",
        "val_loader = DataLoader(val_dataset, batch_size=32, shuffle=False, collate_fn=val_collate_fn)"
      ],
      "metadata": {
        "id": "VTJYFVqXom5C"
      },
      "execution_count": 102,
      "outputs": []
    },
    {
      "cell_type": "code",
      "source": [
        "len(train_dataset)"
      ],
      "metadata": {
        "colab": {
          "base_uri": "https://localhost:8080/"
        },
        "id": "xHUQ-muyo7dE",
        "outputId": "56065ab0-611d-416b-ca08-653ea6b8f3da"
      },
      "execution_count": 103,
      "outputs": [
        {
          "output_type": "execute_result",
          "data": {
            "text/plain": [
              "14000"
            ]
          },
          "metadata": {},
          "execution_count": 103
        }
      ]
    },
    {
      "cell_type": "code",
      "source": [
        "device = torch.device(\"cuda\" if torch.cuda.is_available() else \"cpu\")\n",
        "model = model.to(device)\n",
        "optimizer = torch.optim.AdamW(model.parameters(), lr=3e-4, betas=(0.9, 0.98), weight_decay=0.01)\n",
        "criterion = nn.CrossEntropyLoss(ignore_index=IGNORE_INDEX)\n",
        "writer = SummaryWriter(\"runs/entity_binding_hooked_transformer\")"
      ],
      "metadata": {
        "colab": {
          "base_uri": "https://localhost:8080/"
        },
        "id": "EyYYH6ZSo9sr",
        "outputId": "6f30e8d6-711c-4c51-8365-cde0984a5c8f"
      },
      "execution_count": 112,
      "outputs": [
        {
          "output_type": "stream",
          "name": "stdout",
          "text": [
            "Moving model to device:  cuda\n"
          ]
        }
      ]
    },
    {
      "cell_type": "code",
      "source": [
        "def compute_accuracy(logits: torch.Tensor, targets: torch.Tensor, ignore_index: int = IGNORE_INDEX):\n",
        "    \"\"\"\n",
        "    Accuracy over positions where targets != ignore_index.\n",
        "    Returns correct_count and total_count\n",
        "    \"\"\"\n",
        "    with torch.no_grad():\n",
        "        mask = targets.ne(ignore_index)\n",
        "        total = mask.sum().item()\n",
        "        preds = logits.argmax(dim=-1)\n",
        "        correct = preds.masked_select(mask).eq(targets.masked_select(mask)).sum().item()\n",
        "        return correct, total"
      ],
      "metadata": {
        "id": "OMDJvgtstqGS"
      },
      "execution_count": 109,
      "outputs": []
    },
    {
      "cell_type": "code",
      "source": [
        "num_epochs = 10\n",
        "global_step = 0\n",
        "\n",
        "for epoch in range(num_epochs):\n",
        "    model.train()\n",
        "    total_train_loss = 0\n",
        "    total_train_correct = 0\n",
        "    total_train_count = 0\n",
        "    for input_tokens, targets in train_loader:\n",
        "        input_tokens, targets = input_tokens.to(device), targets.to(device)\n",
        "\n",
        "        optimizer.zero_grad()\n",
        "        logits = model(input_tokens)  # shape: [B, T, d_vocab]\n",
        "        logits = logits[:,-1]\n",
        "        targets = targets[targets!=-100]\n",
        "        loss = criterion(logits, targets)\n",
        "        loss.backward()\n",
        "        optimizer.step()\n",
        "\n",
        "        total_train_loss += loss.item()\n",
        "        c, n = compute_accuracy(logits, targets)\n",
        "        total_train_correct += c\n",
        "        total_train_count += n\n",
        "        step_acc = (c / n) if n else 0.0\n",
        "        writer.add_scalar(\"Loss/train\", loss.item(), global_step)\n",
        "        writer.add_scalar(\"Acc/train_step\", step_acc, global_step)\n",
        "        global_step += 1\n",
        "\n",
        "    avg_train_loss = total_train_loss / len(train_loader)\n",
        "    train_acc = (total_train_correct / total_train_count) if total_train_count else 0.0\n",
        "    print(f\"[Epoch {epoch+1}] Train Loss: {avg_train_loss:.4f} | Train Acc: {train_acc:.3f}\")\n",
        "\n",
        "    model.eval()\n",
        "    total_val_loss = 0\n",
        "    total_val_correct = 0\n",
        "    total_val_count = 0\n",
        "    with torch.no_grad():\n",
        "        for input_tokens, targets in val_loader:\n",
        "            input_tokens, targets = input_tokens.to(device), targets.to(device)\n",
        "            logits = model(input_tokens)\n",
        "            logits = logits[:,-1]\n",
        "            targets = targets[targets!=-100]\n",
        "            loss = criterion(logits, targets)\n",
        "            total_val_loss += loss.item()\n",
        "            c, n = compute_accuracy(logits, targets)\n",
        "            total_val_correct += c\n",
        "            total_val_count += n\n",
        "\n",
        "    avg_val_loss = total_val_loss / len(val_loader)\n",
        "    val_acc = (total_val_correct / total_val_count) if total_val_count else 0.0\n",
        "    print(f\"[Epoch {epoch+1}] Val Loss: {avg_val_loss:.4f} | Val Acc: {val_acc:.3f}\")\n",
        "    writer.add_scalar(\"Loss/val\", avg_val_loss, global_step)\n",
        "    writer.add_scalar(\"Acc/val\", val_acc, global_step)\n",
        "\n",
        "writer.close()\n",
        "print(\"Training complete.\")"
      ],
      "metadata": {
        "colab": {
          "base_uri": "https://localhost:8080/"
        },
        "id": "IMKP9YPcqIb-",
        "outputId": "eed8dee9-ec77-4fc7-f24a-4daa367dab21"
      },
      "execution_count": 113,
      "outputs": [
        {
          "output_type": "stream",
          "name": "stdout",
          "text": [
            "[Epoch 1] Train Loss: 4.6562 | Train Acc: 0.040\n",
            "[Epoch 1] Val Loss: 4.2181 | Val Acc: 0.100\n",
            "[Epoch 2] Train Loss: 3.8665 | Train Acc: 0.142\n",
            "[Epoch 2] Val Loss: 3.6517 | Val Acc: 0.165\n",
            "[Epoch 3] Train Loss: 3.3894 | Train Acc: 0.190\n",
            "[Epoch 3] Val Loss: 3.3314 | Val Acc: 0.181\n",
            "[Epoch 4] Train Loss: 3.0772 | Train Acc: 0.214\n",
            "[Epoch 4] Val Loss: 3.1237 | Val Acc: 0.192\n",
            "[Epoch 5] Train Loss: 2.8500 | Train Acc: 0.230\n",
            "[Epoch 5] Val Loss: 2.9891 | Val Acc: 0.193\n",
            "[Epoch 6] Train Loss: 2.6886 | Train Acc: 0.246\n",
            "[Epoch 6] Val Loss: 2.8988 | Val Acc: 0.185\n",
            "[Epoch 7] Train Loss: 2.5746 | Train Acc: 0.254\n",
            "[Epoch 7] Val Loss: 2.8487 | Val Acc: 0.185\n",
            "[Epoch 8] Train Loss: 2.4613 | Train Acc: 0.273\n",
            "[Epoch 8] Val Loss: 2.8008 | Val Acc: 0.189\n",
            "[Epoch 9] Train Loss: 2.3693 | Train Acc: 0.281\n",
            "[Epoch 9] Val Loss: 2.7956 | Val Acc: 0.183\n",
            "[Epoch 10] Train Loss: 2.2822 | Train Acc: 0.295\n",
            "[Epoch 10] Val Loss: 2.7734 | Val Acc: 0.196\n",
            "Training complete.\n"
          ]
        }
      ]
    },
    {
      "cell_type": "code",
      "source": [
        "train_dataset[0]"
      ],
      "metadata": {
        "id": "Mk6YbXWa1oPu",
        "outputId": "9111dd11-9810-4001-ec54-53b8aeff07f6",
        "colab": {
          "base_uri": "https://localhost:8080/"
        }
      },
      "execution_count": 17,
      "outputs": [
        {
          "output_type": "execute_result",
          "data": {
            "text/plain": [
              "(tensor([ 15, 204, 187, 205,  88, 201, 199, 205,   4, 201, 195, 205,  52, 203,\n",
              "         117, 205,  96, 204, 198, 205,   4, 201, 206]),\n",
              " tensor(195))"
            ]
          },
          "metadata": {},
          "execution_count": 17
        }
      ]
    },
    {
      "cell_type": "code",
      "source": [
        "logits = model(train_dataset[0][0])"
      ],
      "metadata": {
        "id": "xj9Ro-9T8cPx"
      },
      "execution_count": 60,
      "outputs": []
    },
    {
      "cell_type": "code",
      "source": [
        "train_dataset[0][0].shape"
      ],
      "metadata": {
        "id": "D7evax16MTXm",
        "outputId": "6d0e676f-0886-43c2-a3d4-91bbf8059d63",
        "colab": {
          "base_uri": "https://localhost:8080/"
        }
      },
      "execution_count": 61,
      "outputs": [
        {
          "output_type": "execute_result",
          "data": {
            "text/plain": [
              "torch.Size([23])"
            ]
          },
          "metadata": {},
          "execution_count": 61
        }
      ]
    },
    {
      "cell_type": "code",
      "source": [
        "pred = logits[:,-1].argmax()\n",
        "pred"
      ],
      "metadata": {
        "id": "-8fRN0c-MkLg",
        "outputId": "bc8f3142-a660-4e19-8cc2-47d0b3bfef45",
        "colab": {
          "base_uri": "https://localhost:8080/"
        }
      },
      "execution_count": 62,
      "outputs": [
        {
          "output_type": "execute_result",
          "data": {
            "text/plain": [
              "tensor(195, device='cuda:0')"
            ]
          },
          "metadata": {},
          "execution_count": 62
        }
      ]
    },
    {
      "cell_type": "code",
      "source": [
        "a = next(iter(train_loader))"
      ],
      "metadata": {
        "id": "g3tmT1c5UP2h"
      },
      "execution_count": 67,
      "outputs": []
    },
    {
      "cell_type": "code",
      "source": [],
      "metadata": {
        "id": "e5MiVTIEUdqy"
      },
      "execution_count": null,
      "outputs": []
    },
    {
      "cell_type": "code",
      "source": [
        "inp, labels = a[0], a[1]\n",
        "inp.shape, labels.shape"
      ],
      "metadata": {
        "id": "egU7hxg9Udv4",
        "outputId": "5a4e5c09-bffb-4b88-c9f2-0deeba16a53c",
        "colab": {
          "base_uri": "https://localhost:8080/"
        }
      },
      "execution_count": 71,
      "outputs": [
        {
          "output_type": "execute_result",
          "data": {
            "text/plain": [
              "(torch.Size([32, 35]), torch.Size([32, 35]))"
            ]
          },
          "metadata": {},
          "execution_count": 71
        }
      ]
    },
    {
      "cell_type": "code",
      "source": [
        "logits = logits.view(-1, logits.size(-1)).shape\n",
        "targets = train_dataset[0][1].view(-1)"
      ],
      "metadata": {
        "id": "EfLwCRYoMtdD",
        "outputId": "a494f461-64a9-410b-b736-0941145d01d5",
        "colab": {
          "base_uri": "https://localhost:8080/",
          "height": 158
        }
      },
      "execution_count": 65,
      "outputs": [
        {
          "output_type": "error",
          "ename": "AttributeError",
          "evalue": "'torch.Size' object has no attribute 'view'",
          "traceback": [
            "\u001b[0;31m---------------------------------------------------------------------------\u001b[0m",
            "\u001b[0;31mAttributeError\u001b[0m                            Traceback (most recent call last)",
            "\u001b[0;32m/tmp/ipython-input-1189110451.py\u001b[0m in \u001b[0;36m<cell line: 0>\u001b[0;34m()\u001b[0m\n\u001b[0;32m----> 1\u001b[0;31m \u001b[0mlogits\u001b[0m \u001b[0;34m=\u001b[0m \u001b[0mlogits\u001b[0m\u001b[0;34m.\u001b[0m\u001b[0mview\u001b[0m\u001b[0;34m(\u001b[0m\u001b[0;34m-\u001b[0m\u001b[0;36m1\u001b[0m\u001b[0;34m,\u001b[0m \u001b[0mlogits\u001b[0m\u001b[0;34m.\u001b[0m\u001b[0msize\u001b[0m\u001b[0;34m(\u001b[0m\u001b[0;34m-\u001b[0m\u001b[0;36m1\u001b[0m\u001b[0;34m)\u001b[0m\u001b[0;34m)\u001b[0m\u001b[0;34m.\u001b[0m\u001b[0mshape\u001b[0m\u001b[0;34m\u001b[0m\u001b[0;34m\u001b[0m\u001b[0m\n\u001b[0m\u001b[1;32m      2\u001b[0m \u001b[0mtargets\u001b[0m \u001b[0;34m=\u001b[0m \u001b[0mtrain_dataset\u001b[0m\u001b[0;34m[\u001b[0m\u001b[0;36m0\u001b[0m\u001b[0;34m]\u001b[0m\u001b[0;34m[\u001b[0m\u001b[0;36m1\u001b[0m\u001b[0;34m]\u001b[0m\u001b[0;34m.\u001b[0m\u001b[0mview\u001b[0m\u001b[0;34m(\u001b[0m\u001b[0;34m-\u001b[0m\u001b[0;36m1\u001b[0m\u001b[0;34m)\u001b[0m\u001b[0;34m\u001b[0m\u001b[0;34m\u001b[0m\u001b[0m\n",
            "\u001b[0;31mAttributeError\u001b[0m: 'torch.Size' object has no attribute 'view'"
          ]
        }
      ]
    },
    {
      "cell_type": "code",
      "source": [
        "labels"
      ],
      "metadata": {
        "id": "_J3HSw1bTV_e",
        "outputId": "452bc8f6-8a35-46c1-bb26-aadc359205da",
        "colab": {
          "base_uri": "https://localhost:8080/"
        }
      },
      "execution_count": 72,
      "outputs": [
        {
          "output_type": "execute_result",
          "data": {
            "text/plain": [
              "tensor([[-100, -100, -100,  ..., -100, -100, -100],\n",
              "        [-100, -100, -100,  ..., -100, -100,  118],\n",
              "        [-100, -100, -100,  ..., -100, -100, -100],\n",
              "        ...,\n",
              "        [-100, -100, -100,  ..., -100, -100, -100],\n",
              "        [-100, -100, -100,  ..., -100, -100, -100],\n",
              "        [-100, -100, -100,  ..., -100, -100,  157]])"
            ]
          },
          "metadata": {},
          "execution_count": 72
        }
      ]
    },
    {
      "cell_type": "code",
      "source": [
        "logits = model(inp)\n",
        "logits.shape"
      ],
      "metadata": {
        "id": "bzCzvg88UsKc",
        "outputId": "6c68e3a6-708e-495d-af26-d7a7719411f6",
        "colab": {
          "base_uri": "https://localhost:8080/"
        }
      },
      "execution_count": 73,
      "outputs": [
        {
          "output_type": "execute_result",
          "data": {
            "text/plain": [
              "torch.Size([32, 35, 208])"
            ]
          },
          "metadata": {},
          "execution_count": 73
        }
      ]
    },
    {
      "cell_type": "code",
      "source": [
        "logits = logits[:, -1]"
      ],
      "metadata": {
        "id": "yoGvaks5U49b"
      },
      "execution_count": 74,
      "outputs": []
    },
    {
      "cell_type": "code",
      "source": [
        "labels.shape, logits.shape"
      ],
      "metadata": {
        "id": "R4fx25VBU-H1",
        "outputId": "1cc9ad67-f104-4ad1-b114-f2a407535933",
        "colab": {
          "base_uri": "https://localhost:8080/"
        }
      },
      "execution_count": 77,
      "outputs": [
        {
          "output_type": "execute_result",
          "data": {
            "text/plain": [
              "(torch.Size([32, 35]), torch.Size([32, 208]))"
            ]
          },
          "metadata": {},
          "execution_count": 77
        }
      ]
    },
    {
      "cell_type": "code",
      "source": [
        "labels = labels[labels!=-100]\n"
      ],
      "metadata": {
        "id": "zoYoTh6IX-wq"
      },
      "execution_count": 83,
      "outputs": []
    },
    {
      "cell_type": "code",
      "source": [
        "logits.shape, labels.shape"
      ],
      "metadata": {
        "id": "xG0Qt1u7YYhv",
        "outputId": "63a9ab93-85be-43e5-bf6e-0b09ea2173e1",
        "colab": {
          "base_uri": "https://localhost:8080/"
        }
      },
      "execution_count": 85,
      "outputs": [
        {
          "output_type": "execute_result",
          "data": {
            "text/plain": [
              "(torch.Size([32, 208]), torch.Size([32]))"
            ]
          },
          "metadata": {},
          "execution_count": 85
        }
      ]
    },
    {
      "cell_type": "code",
      "source": [
        "criterion(logits, labels.to(device))"
      ],
      "metadata": {
        "id": "9i4KiNaLU--M",
        "outputId": "e379c4a7-6678-46b0-ab14-034fa410870e",
        "colab": {
          "base_uri": "https://localhost:8080/"
        }
      },
      "execution_count": 86,
      "outputs": [
        {
          "output_type": "execute_result",
          "data": {
            "text/plain": [
              "tensor(2.9954, device='cuda:0', grad_fn=<NllLossBackward0>)"
            ]
          },
          "metadata": {},
          "execution_count": 86
        }
      ]
    },
    {
      "cell_type": "code",
      "source": [],
      "metadata": {
        "id": "c1xiooUMXlYW"
      },
      "execution_count": null,
      "outputs": []
    }
  ]
}